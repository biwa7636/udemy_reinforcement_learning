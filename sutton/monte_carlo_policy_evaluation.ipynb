{
 "cells": [
  {
   "cell_type": "markdown",
   "metadata": {},
   "source": [
    "Initialize:\n",
    "\n",
    "- $\\pi$ = policy to be evaluated \n",
    "- $V$ = an arbitrary state-value function \n",
    "- $Returns(s)$ = an empty list, for all $s \\in S$\n",
    "\n",
    "Repeat Forever:\n",
    "\n",
    "- (a) Generate an episode using $\\pi$\n",
    "- (b) For each state s appearing in the episode\n",
    "    - $R$ = return following the first occurence of s\n",
    "    - Append R to $Return(s)$\n",
    "    - $V(s)$ = average($Return(s)$)\n",
    "    \n",
    "We are going to explore the [blackjack game](https://en.wikipedia.org/wiki/Blackjack) as indicated in the book. \n",
    "\n",
    "First, let's discuss the state space $S$: \n",
    "\n",
    "\"The player makes decisions on three variables: his current sum(12-21), the dealer's one showing card (ace-10), and whether or not he holds a usable ace.\"\n",
    "\n",
    "Why?\n",
    "States: The player will have at least two cards, on folded and one unfolded. There are a few scenario where he can achieve the smallest sum, for example, he has one ace which he can either use as 1 or 11. Based on the other card, if the other card is another ace, he can use that Ace as a 1 which will requrie consistent following hits or he can count that one as a 11 which summed to 12. The second Ace scenario is interesting, let's put it on the side, if your second card is anything else, you are above 12. If your first card is 2 and the second is face card, you also get a 12. The dealer's showing card can be ace-10 but could have 11 values 1-11 depending on how the dealer wants to use his card. \n",
    "Hence, there are 10 $*$ 10 $*$ 2 ~ 200 different states. \n",
    "\n",
    "Actions: the player can either hit or stick so there are two actions he can control. "
   ]
  },
  {
   "cell_type": "markdown",
   "metadata": {},
   "source": [
    "policy sticks if 20 or 21. "
   ]
  },
  {
   "cell_type": "code",
   "execution_count": 33,
   "metadata": {},
   "outputs": [
    {
     "name": "stdout",
     "output_type": "stream",
     "text": [
      "[12, 0, 0]\n",
      ">>>>>>>>>> round:  1\n",
      "player_sum:  12\n",
      "card:  4\n",
      "incre:  4\n",
      "status:  in game\n",
      ">>>>>>>>>> round:  2\n",
      "player_sum:  16\n",
      "card:  1\n",
      "incre:  1\n",
      "status:  in game\n",
      ">>>>>>>>>> round:  3\n",
      "player_sum:  17\n",
      "card:  2\n",
      "incre:  2\n",
      "status:  in game\n",
      ">>>>>>>>>> round:  4\n",
      "player_sum:  19\n",
      "card:  5\n",
      "incre:  5\n",
      "status:  bust\n"
     ]
    }
   ],
   "source": [
    "import random\n",
    "def get_card():\n",
    "    return random.randint(1, 13)\n",
    "\n",
    "def deal(card, mysum):\n",
    "    # assume mysum >= 12\n",
    "    if card in (11, 12, 13):\n",
    "        # Facecard (Jack, Queen, King)\n",
    "        return 10\n",
    "    elif card == 1:\n",
    "        return 1\n",
    "    else:\n",
    "        return card\n",
    "    \n",
    "def check_status(mysum, deal_value):\n",
    "    if mysum == 21:\n",
    "        return 'natural'\n",
    "    elif mysum > 21: \n",
    "        return 'bust'\n",
    "    else:\n",
    "        return 'in game'\n",
    "              \n",
    "\n",
    "def step(player_sum):\n",
    "    if player_sum in (20, 21):\n",
    "        return 'stick' \n",
    "    else:\n",
    "        return 'hit'\n",
    "    \n",
    "# state = [player_sum, dealer_card, usable]\n",
    "    \n",
    "def episode(state):\n",
    "    status = 'in game'\n",
    "    _player_sum, _deadler_card, _usable = state\n",
    "    print(state)\n",
    "\n",
    "    count = 1\n",
    "    while(status == 'in game'):\n",
    "        print('>'*10, 'round: ', count)\n",
    "        print('player_sum: ', _player_sum)\n",
    "        count+=1\n",
    "        action = step(_player_sum) \n",
    "        if action == 'hit':\n",
    "            card = get_card()\n",
    "            print('card: ', card)\n",
    "            incre = deal(card, _player_sum) \n",
    "            print('incre: ', incre)\n",
    "            _player_sum += incre\n",
    "            status = check_status(_player_sum, incre)\n",
    "            print('status: ', status)\n",
    "            continue\n",
    "        else: \n",
    "            print('game finished: ', )\n",
    "            break\n",
    "\n",
    "        \n",
    "        \n",
    "episode([12, 0, 0])\n"
   ]
  },
  {
   "cell_type": "code",
   "execution_count": null,
   "metadata": {
    "collapsed": true
   },
   "outputs": [],
   "source": []
  },
  {
   "cell_type": "code",
   "execution_count": null,
   "metadata": {
    "collapsed": true
   },
   "outputs": [],
   "source": []
  }
 ],
 "metadata": {
  "kernelspec": {
   "display_name": "Python 3",
   "language": "python",
   "name": "python3"
  },
  "language_info": {
   "codemirror_mode": {
    "name": "ipython",
    "version": 3
   },
   "file_extension": ".py",
   "mimetype": "text/x-python",
   "name": "python",
   "nbconvert_exporter": "python",
   "pygments_lexer": "ipython3",
   "version": "3.6.3"
  }
 },
 "nbformat": 4,
 "nbformat_minor": 2
}
