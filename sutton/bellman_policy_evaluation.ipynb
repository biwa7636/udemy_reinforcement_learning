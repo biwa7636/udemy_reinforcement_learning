{
 "cells": [
  {
   "cell_type": "code",
   "execution_count": 93,
   "metadata": {
    "collapsed": true
   },
   "outputs": [],
   "source": [
    "import numpy as np\n",
    "%matplotlib inline\n",
    "import matplotlib\n",
    "import numpy as np\n",
    "import matplotlib.pyplot as plt\n",
    "import pandas as pd"
   ]
  },
  {
   "cell_type": "markdown",
   "metadata": {},
   "source": [
    "In previous notebook, we managed to solve the value function for the random policy by solving a linear system. This notebook is to solve the gridworld problem using Policy Evaluation in Dynamic Programming. We will look at how fast the approximation will approach the real answer and what are the factors that could potentially accelerate the approximation. "
   ]
  },
  {
   "cell_type": "markdown",
   "metadata": {},
   "source": [
    "Bellman Equation:\n",
    "\n",
    "$$ V^{\\pi}(s) = \\sum_{a} \\pi(s,a) \\sum_{s^\\prime} P_{s{s^\\prime}}^{a} \n",
    "   (R_{s{s^\\prime}}^{a} + \\gamma V^{\\pi}(s^\\prime)) $$\n",
    "   \n",
    "   \n",
    "Iterative Policy Evaluation:  \n",
    "   \n",
    "$$ V_{k+1}(s) = \\sum_{a} \\pi(s,a) \\sum_{s^\\prime} P_{s{s^\\prime}}^{a} \n",
    "   (R_{s{s^\\prime}}^{a} + \\gamma V_{k}(s^\\prime)) $$"
   ]
  },
  {
   "cell_type": "markdown",
   "metadata": {},
   "source": [
    "Here we stick to the random walk policy where the agent has an equal probability of going to each of the four direction (E, S, W, N). So in that case $\\pi(s, a)$ is always $\\frac{1}{4}$, even at the teleport point. "
   ]
  },
  {
   "cell_type": "markdown",
   "metadata": {},
   "source": [
    "We need to initialize $V(s)$ for all the possible states, 25 cells in this case, and let's use a list of lenght 25 to keep the latest value of V for round k. "
   ]
  },
  {
   "cell_type": "code",
   "execution_count": 89,
   "metadata": {},
   "outputs": [
    {
     "name": "stdout",
     "output_type": "stream",
     "text": [
      "[0, 0, 0, 0, 0, 0, 0, 0, 0, 0, 0, 0, 0, 0, 0, 0, 0, 0, 0, 0, 0, 0, 0, 0, 0]\n",
      ">>>>>>>>>>>>>>>>>>>>>>>>>>>>>>>>>>>>>>>>>>>>>>>>>>\n",
      "Iteration Num:  0\n",
      "[[ -0.5   -0.25  -0.25  -0.25  -0.5 ]\n",
      " [ 10.     0.     0.     0.    -0.25]\n",
      " [ -0.25   0.     0.     0.    -0.25]\n",
      " [  5.     0.     0.     0.    -0.25]\n",
      " [ -0.5   -0.25  -0.25  -0.25  -0.5 ]]\n",
      ">>>>>>>>>>>>>>>>>>>>>>>>>>>>>>>>>>>>>>>>>>>>>>>>>>\n",
      "Iteration Num:  1\n",
      "[[ 1.469 -0.475 -0.419 -0.475 -0.838]\n",
      " [ 9.775  2.194 -0.056 -0.113 -0.475]\n",
      " [ 3.069 -0.056  0.    -0.056 -0.419]\n",
      " [ 5.     1.069 -0.056 -0.113 -0.475]\n",
      " [ 0.344 -0.475 -0.419 -0.475 -0.838]]\n",
      ">>>>>>>>>>>>>>>>>>>>>>>>>>>>>>>>>>>>>>>>>>>>>>>>>>\n",
      "Iteration Num:  2\n",
      "[[ 2.253  0.373 -0.571 -0.665 -1.091]\n",
      " [ 9.572  2.067  0.374 -0.239 -0.665]\n",
      " [ 3.752  1.425 -0.051 -0.145 -0.571]\n",
      " [ 4.899  0.993  0.121 -0.239 -0.665]\n",
      " [ 0.673 -0.133 -0.571 -0.665 -1.091]]\n",
      ">>>>>>>>>>>>>>>>>>>>>>>>>>>>>>>>>>>>>>>>>>>>>>>>>>\n",
      "Iteration Num:  3\n",
      "[[ 2.752  0.678 -0.36  -0.827 -1.29 ]\n",
      " [ 9.402  2.642  0.272 -0.248 -0.827]\n",
      " [ 4.171  1.521  0.399 -0.247 -0.71 ]\n",
      " [ 4.785  1.42   0.03  -0.305 -0.827]\n",
      " [ 0.875 -0.034 -0.531 -0.827 -1.29 ]]\n",
      ">>>>>>>>>>>>>>>>>>>>>>>>>>>>>>>>>>>>>>>>>>>>>>>>>>\n",
      "Iteration Num:  4\n",
      "[[ 3.006  1.035 -0.304 -0.863 -1.453]\n",
      " [ 9.256  2.671  0.548 -0.367 -0.942]\n",
      " [ 4.223  1.942  0.354 -0.194 -0.838]\n",
      " [ 4.726  1.418  0.221 -0.421 -0.955]\n",
      " [ 0.963  0.139 -0.556 -0.914 -1.453]]\n",
      ">>>>>>>>>>>>>>>>>>>>>>>>>>>>>>>>>>>>>>>>>>>>>>>>>>\n",
      "Iteration Num:  5\n",
      "[[ 3.168  1.192 -0.156 -0.922 -1.56 ]\n",
      " [ 9.152  2.876  0.53  -0.327 -1.06 ]\n",
      " [ 4.283  1.95   0.566 -0.286 -0.909]\n",
      " [ 4.621  1.582  0.179 -0.414 -1.075]\n",
      " [ 1.028  0.192 -0.5   -1.003 -1.574]]\n",
      ">>>>>>>>>>>>>>>>>>>>>>>>>>>>>>>>>>>>>>>>>>>>>>>>>>\n",
      "Iteration Num:  6\n",
      "[[ 3.253  1.343 -0.105 -0.917 -1.648]\n",
      " [ 9.046  2.885  0.666 -0.391 -1.117]\n",
      " [ 4.251  2.094  0.534 -0.244 -0.999]\n",
      " [ 4.627  1.562  0.278 -0.492 -1.144]\n",
      " [ 1.045  0.268 -0.505 -1.035 -1.676]]\n",
      ">>>>>>>>>>>>>>>>>>>>>>>>>>>>>>>>>>>>>>>>>>>>>>>>>>\n",
      "Iteration Num:  7\n",
      "[[ 3.301  1.41  -0.028 -0.939 -1.699]\n",
      " [ 8.994  2.958  0.658 -0.363 -1.185]\n",
      " [ 4.254  2.077  0.629 -0.303 -1.038]\n",
      " [ 4.558  1.635  0.247 -0.483 -1.22 ]\n",
      " [ 1.072  0.283 -0.474 -1.084 -1.744]]\n",
      ">>>>>>>>>>>>>>>>>>>>>>>>>>>>>>>>>>>>>>>>>>>>>>>>>>\n",
      "Iteration Num:  8\n",
      "[[ 3.327  1.469 -0.002 -0.931 -1.742]\n",
      " [ 8.934  2.956  0.719 -0.398 -1.214]\n",
      " [ 4.224  2.132  0.603 -0.282 -1.093]\n",
      " [ 4.566  1.612  0.294 -0.531 -1.259]\n",
      " [ 1.072  0.316 -0.481 -1.102 -1.803]]\n",
      ">>>>>>>>>>>>>>>>>>>>>>>>>>>>>>>>>>>>>>>>>>>>>>>>>>\n",
      "Iteration Num:  9\n",
      "[[ 3.338  1.494  0.032 -0.942 -1.767]\n",
      " [ 8.907  2.982  0.711 -0.385 -1.251]\n",
      " [ 4.217  2.114  0.644 -0.319 -1.116]\n",
      " [ 4.522  1.644  0.271 -0.529 -1.304]\n",
      " [ 1.081  0.317 -0.469 -1.131 -1.843]]\n",
      ">>>>>>>>>>>>>>>>>>>>>>>>>>>>>>>>>>>>>>>>>>>>>>>>>>\n",
      "Iteration Num:  10\n",
      "[[ 3.342  1.515  0.041 -0.939 -1.788]\n",
      " [ 8.874  2.976  0.737 -0.405 -1.267]\n",
      " [ 4.196  2.135  0.625 -0.312 -1.148]\n",
      " [ 4.524  1.625  0.29  -0.559 -1.328]\n",
      " [ 1.075  0.329 -0.478 -1.144 -1.877]]\n",
      ">>>>>>>>>>>>>>>>>>>>>>>>>>>>>>>>>>>>>>>>>>>>>>>>>>\n",
      "Iteration Num:  11\n",
      "[[ 3.342  1.522  0.055 -0.945 -1.801]\n",
      " [ 8.86   2.984  0.728 -0.401 -1.287]\n",
      " [ 4.189  2.12   0.641 -0.335 -1.162]\n",
      " [ 4.497  1.638  0.273 -0.561 -1.355]\n",
      " [ 1.076  0.324 -0.475 -1.163 -1.901]]\n",
      ">>>>>>>>>>>>>>>>>>>>>>>>>>>>>>>>>>>>>>>>>>>>>>>>>>\n",
      "Iteration Num:  12\n",
      "[[ 3.34   1.528  0.056 -0.946 -1.813]\n",
      " [ 8.842  2.977  0.738 -0.414 -1.296]\n",
      " [ 4.175  2.127  0.627 -0.334 -1.181]\n",
      " [ 4.495  1.623  0.28  -0.581 -1.37 ]\n",
      " [ 1.069  0.326 -0.484 -1.173 -1.922]]\n",
      "close enough\n"
     ]
    }
   ],
   "source": [
    "size = 5\n",
    "# initialize the state value function to be all zeros\n",
    "v = [0 for _ in range(size*size)]\n",
    "print(v)\n",
    "\n",
    "P = {'E': 0.25, 'S': 0.25, 'W': 0.25, 'N': 0.25}\n",
    "\n",
    "num_iterations = 50\n",
    "epsilon = 0.05\n",
    "gamma = 0.9\n",
    "# this is a list to store the distance between V_k and V_k+1\n",
    "distance = []\n",
    "\n",
    "for idx in range(num_iterations):\n",
    "    delta = 0\n",
    "    v_new = [0 for _ in range(size*size)]\n",
    "\n",
    "    for x in range(size):\n",
    "        for y in range(size): \n",
    "            \n",
    "            s = x*size + y\n",
    "            \n",
    "            ####################################################\n",
    "            ###  use the old value to calculate the new value  #\n",
    "            ####################################################\n",
    "            \n",
    "            # the two teleport points: S=[1,0] -> [1,4], S=[3,0] -> [3,3]\n",
    "            if s == 5:\n",
    "                s_a_prime = 1 * size + 4\n",
    "                v_new[s] = 10 + gamma * v[s_a_prime]\n",
    "                continue\n",
    "            elif s == 15:\n",
    "                s_b_prime = 3 * size + 3\n",
    "                v_new[s] = 5 + gamma * v[s_b_prime]\n",
    "                continue\n",
    "                \n",
    "            v_sum = 0\n",
    "            \n",
    "            # E: x+1, y\n",
    "            r = 0\n",
    "            x_ = x+1\n",
    "            y_ = y \n",
    "            if x_ > size - 1:\n",
    "                x_ = x\n",
    "                r = -1 \n",
    "            v_sum += P['E']*(r + gamma * v[size*x_+y_])\n",
    "            \n",
    "            # S: x, y+1\n",
    "            r = 0\n",
    "            x_ = x\n",
    "            y_ = y+1 \n",
    "            if y_ > size - 1:\n",
    "                y_ = y\n",
    "                r = -1\n",
    "            v_sum += P['S']*(r + gamma * v[size*x_+y_])\n",
    "\n",
    "            # W: x-1, y\n",
    "            r = 0\n",
    "            x_ = x-1\n",
    "            y_ = y \n",
    "            if x_ < 0:\n",
    "                x_ = x\n",
    "                r = -1\n",
    "            v_sum += P['W']*(r + gamma * v[size*x_+y_])\n",
    "\n",
    "            # N: x, y-1\n",
    "            r = 0\n",
    "            x_ = x\n",
    "            y_ = y-1 \n",
    "            if y_ < 0:\n",
    "                y_ = y\n",
    "                r = -1\n",
    "            v_sum += P['N']*(r + gamma * v[size*x_+y_])\n",
    "            v_new[s] = v_sum\n",
    "\n",
    "    distance.append([idx, np.linalg.norm(np.array(v_new) - np.array(v))])\n",
    "    np.set_printoptions(precision=3, suppress=True)\n",
    "    v_print = np.asmatrix([v_new[i:i+size] for i in range(0, len(v_new), size)])\n",
    "    print('>'*50)\n",
    "    print('Iteration Num: ', idx)\n",
    "    print(v_print)\n",
    "\n",
    "    if np.allclose(v, v_new, rtol=epsilon):\n",
    "        print('close enough')\n",
    "        break\n",
    "        \n",
    "    v = v_new.copy()"
   ]
  },
  {
   "cell_type": "code",
   "execution_count": 90,
   "metadata": {},
   "outputs": [
    {
     "name": "stdout",
     "output_type": "stream",
     "text": [
      "[[ 3.342  8.86   4.189  4.497  1.076]\n",
      " [ 1.522  2.984  2.12   1.638  0.324]\n",
      " [ 0.055  0.728  0.641  0.273 -0.475]\n",
      " [-0.945 -0.401 -0.335 -0.561 -1.163]\n",
      " [-1.801 -1.287 -1.162 -1.355 -1.901]]\n"
     ]
    }
   ],
   "source": [
    "res = np.array(v)\n",
    "res.shape = (size, size)\n",
    "print(res.transpose())"
   ]
  },
  {
   "cell_type": "markdown",
   "metadata": {},
   "source": [
    "The above approximation using policy evaluation is pretty close to the one solving the linear system directly"
   ]
  },
  {
   "cell_type": "code",
   "execution_count": 91,
   "metadata": {},
   "outputs": [
    {
     "name": "stdout",
     "output_type": "stream",
     "text": [
      "[[ 3.282  8.762  4.097  4.403  0.998]\n",
      " [ 1.483  2.922  2.058  1.558  0.258]\n",
      " [ 0.015  0.682  0.569  0.204 -0.556]\n",
      " [-1.002 -0.475 -0.414 -0.663 -1.266]\n",
      " [-1.882 -1.375 -1.27  -1.473 -2.029]]\n"
     ]
    }
   ],
   "source": [
    "v_solver = [[ 3.282,  8.762,  4.097,  4.403,  0.998],\n",
    " [ 1.483,  2.922,  2.058,  1.558,  0.258],\n",
    " [ 0.015,  0.682,  0.569,  0.204, -0.556],\n",
    " [-1.002, -0.475, -0.414, -0.663, -1.266],\n",
    " [-1.882, -1.375, -1.27,  -1.473, -2.029]]\n",
    "print(np.array(v_solver))"
   ]
  },
  {
   "cell_type": "code",
   "execution_count": 99,
   "metadata": {},
   "outputs": [
    {
     "data": {
      "text/plain": [
       "<matplotlib.axes._subplots.AxesSubplot at 0x10c44c048>"
      ]
     },
     "execution_count": 99,
     "metadata": {},
     "output_type": "execute_result"
    },
    {
     "data": {
      "image/png": "[encoded data removed]",
      "text/plain": [
       "<matplotlib.figure.Figure at 0x10c3c7208>"
      ]
     },
     "metadata": {},
     "output_type": "display_data"
    }
   ],
   "source": [
    "df_distance = pd.DataFrame(distance, columns=['num', 'distance'])\n",
    "df_distance['slope'] = df_distance['distance'] - df_distance['distance'].shift(1)\n",
    "df_distance.plot(x='num', y=['distance', 'slope'])"
   ]
  },
  {
   "cell_type": "markdown",
   "metadata": {},
   "source": [
    "My observation is that the approximation actually works really well, after only a few iterations, the value will stay fairly stable and the computation is not intensive at all. "
   ]
  },
  {
   "cell_type": "code",
   "execution_count": null,
   "metadata": {
    "collapsed": true
   },
   "outputs": [],
   "source": []
  }
 ],
 "metadata": {
  "kernelspec": {
   "display_name": "Python 3",
   "language": "python",
   "name": "python3"
  },
  "language_info": {
   "codemirror_mode": {
    "name": "ipython",
    "version": 3
   },
   "file_extension": ".py",
   "mimetype": "text/x-python",
   "name": "python",
   "nbconvert_exporter": "python",
   "pygments_lexer": "ipython3",
   "version": "3.6.3"
  }
 },
 "nbformat": 4,
 "nbformat_minor": 2
}
