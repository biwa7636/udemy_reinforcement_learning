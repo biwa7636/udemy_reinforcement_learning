{
 "cells": [
  {
   "cell_type": "code",
   "execution_count": 58,
   "metadata": {
    "collapsed": true
   },
   "outputs": [],
   "source": [
    "import numpy as np"
   ]
  },
  {
   "cell_type": "markdown",
   "metadata": {},
   "source": [
    "This is a notebook where I delve deeper into an example used in the book **Reinforcement Learning** by Sutton and Barto, page 71 - 3.7 Value Function"
   ]
  },
  {
   "cell_type": "markdown",
   "metadata": {},
   "source": [
    "$$ V^{\\pi}(s) = \\sum_{a} \\pi(s,a) \\sum_{s^\\prime} P_{s{s^\\prime}}^{a} \n",
    "   (R_{s{s^\\prime}}^{a} + \\gamma V^{\\pi}(s^\\prime)) $$\n",
    "   "
   ]
  },
  {
   "cell_type": "markdown",
   "metadata": {},
   "source": [
    "- $s$: current state \n",
    "- $s^\\prime$: next state\n",
    "- $V^{\\pi}(s)$: state-value function for state $s$ following policy $\\pi$\n",
    "- $\\pi(s,a)$: policy, the probability of taking action $a$ given state $s$\n",
    "- $P_{s{s^\\prime}}^{a}$: transition probability of ending in $s^\\prime$ given taken action $a$ from state $s$\n",
    "- $R_{s{s^\\prime}}^{a}$: reward of ending in $s^\\prime$ given taken action $a$ from state $s$"
   ]
  },
  {
   "cell_type": "markdown",
   "metadata": {},
   "source": [
    "#### Example 3.8: Grid World\n",
    "[slides page 55](http://slideplayer.com/slide/4789577/)"
   ]
  },
  {
   "cell_type": "markdown",
   "metadata": {},
   "source": [
    "Let's start by identifying each different state by its cell position, where (x, y) will means the cell is x units away from the left, and y units away from the top. So the top left corner will have the coordinate of (0,0) and the one in the top right will be (4,0), bottom left will be (0, 4) and bottom right will be (4,4). \n",
    "\n",
    "Let's start by looking into how to calculate the state - value function for the the state (0,0)\n",
    "\n",
    "### 1. S=[0,0]\n",
    "\n",
    "Looking at the bellman equation, we know that we first need to start by looking at the policy and see what are the actions that we can/shall take from state $s$ by following the game policy. The game policy is pretty easy so far, the policy is not to maximize rewards to avoid edge. It is simply a random walk without any particular goal in mind for any state. So at a high level, we know that: \n"
   ]
  },
  {
   "cell_type": "markdown",
   "metadata": {},
   "source": [
    "$$ V^{\\pi}(s=[0,0]) = \\sum_{a \\in (E,S,W,N)} \\pi(s=[0,0],a) \\sum_{s^\\prime} P_{s=[0,0]{s^\\prime}}^{a} \n",
    "   (R_{s=[0,0]{s^\\prime}}^{a} + \\gamma V^{\\pi}(s^\\prime)) $$\n",
    " "
   ]
  },
  {
   "cell_type": "markdown",
   "metadata": {},
   "source": [
    "The good part about this example is that this problem is deterministic. For a starting state, by taken a specific action, you know exactly where you are going next, there is no ramdomness in this problem, even the teleport from A to A' happens with certainty. In another way the transition probability is always 1. Or even further, given state $s$ and action $a$, you know for sure what the next state $s^\\prime$ will be so there is only one next step with transition probability of being 1. Now, let's get rid of the summation over the next state space and also the transition probability.  "
   ]
  },
  {
   "cell_type": "markdown",
   "metadata": {},
   "source": [
    "$$ V^{\\pi}(s=[0,0]) = \\sum_{a \\in (E,S,W,N)} \\pi(s=[0,0],a)  \n",
    "   (R_{s=[0,0]{s^\\prime}}^{a} + \\gamma V^{\\pi}(s^\\prime)) $$\n",
    " "
   ]
  },
  {
   "cell_type": "markdown",
   "metadata": {},
   "source": [
    "$$ V^{\\pi}(s=[0,0]) = \n",
    "\\frac{1}{4}(R_{s=[0,0]{s=[1,0]}}^{a=E} + \\gamma V^{\\pi}(s=[1,0])) + \n",
    "\\frac{1}{4}(R_{s=[0,0]{s=[0,1]}}^{a=S} + \\gamma V^{\\pi}(s=[0,1])) + \n",
    "\\frac{1}{4}(R_{s=[0,0]{s=[0,0]}}^{a=W} + \\gamma V^{\\pi}(s=[0,0])) + \n",
    "\\frac{1}{4}(R_{s=[0,0]{s=[0,0]}}^{a=N} + \\gamma V^{\\pi}(s=[0,0])) $$\n",
    " "
   ]
  },
  {
   "cell_type": "markdown",
   "metadata": {},
   "source": [
    "Now let's look at all the rewards:\n",
    "\n",
    "- $R_{s=[0,0]{s=[1,0]}}^{a=E} = 0$\n",
    "- $R_{s=[0,0]{s=[0,1]}}^{a=S} = 0$\n",
    "- $R_{s=[0,0]{s=[0,0]}}^{a=W} = -1$\n",
    "- $R_{s=[0,0]{s=[0,0]}}^{a=N} = -1$\n",
    "\n",
    "Now we can even further drop a few notation to make it look simple"
   ]
  },
  {
   "cell_type": "markdown",
   "metadata": {},
   "source": [
    "$$ V(s=[0,0]) = \n",
    "\\frac{1}{4}(0 + \\gamma V(s=[1,0])) + \n",
    "\\frac{1}{4}(0 + \\gamma V(s=[0,1])) + \n",
    "\\frac{1}{4}(-1 + \\gamma V(s=[0,0])) + \n",
    "\\frac{1}{4}(-1 + \\gamma V(s=[0,0])) $$\n",
    " "
   ]
  },
  {
   "cell_type": "markdown",
   "metadata": {},
   "source": [
    "$$(4 - 2\\gamma)V([0,0]) = \\gamma V([1,0]) + \\gamma V([0,1]) - 2  $$"
   ]
  },
  {
   "cell_type": "markdown",
   "metadata": {},
   "source": [
    "For the sake of practicing, let's calculate the state value function for another two cells $A:[1,0]$ and $B^\\prime=[3,2]$"
   ]
  },
  {
   "cell_type": "markdown",
   "metadata": {},
   "source": [
    "### 2. S=[1,0]\n"
   ]
  },
  {
   "cell_type": "markdown",
   "metadata": {},
   "source": [
    "$$ V^{\\pi}(s=[1,0]) = \n",
    "\\frac{1}{4}(R_{s=[1,0]{s=[1,4]}}^{a=E} + \\gamma V^{\\pi}(s=[1,4])) + \n",
    "\\frac{1}{4}(R_{s=[1,0]{s=[1,4]}}^{a=S} + \\gamma V^{\\pi}(s=[1,4])) + \n",
    "\\frac{1}{4}(R_{s=[1,0]{s=[1,4]}}^{a=W} + \\gamma V^{\\pi}(s=[1,4])) + \n",
    "\\frac{1}{4}(R_{s=[1,0]{s=[1,4]}}^{a=N} + \\gamma V^{\\pi}(s=[1,4])) $$\n",
    " "
   ]
  },
  {
   "cell_type": "markdown",
   "metadata": {},
   "source": [
    "Starting from point A, we know that regardless of which action you take, you will always teleport to A' [1,4], and it is a certainty. And the immediate reward is 10 all four directions. We can still following the procedure of starting at the $\\pi(s,a)$ and then transition probability, like what we did above, or we can go straight to the next and only state since they are essentially the same in the end:\n",
    "\n",
    "$$ V(s=[1,0]) = 10 + \\gamma V(s=[1,4]) $$\n",
    " \n"
   ]
  },
  {
   "cell_type": "markdown",
   "metadata": {},
   "source": [
    "### 3. S=[3,2]\n"
   ]
  },
  {
   "cell_type": "markdown",
   "metadata": {},
   "source": [
    "$$ V^{\\pi}(s=[3,2]) = \n",
    "\\frac{1}{4}(R_{s=[3,2]{s=[4,2]}}^{a=E} + \\gamma V^{\\pi}(s=[4,2])) + \n",
    "\\frac{1}{4}(R_{s=[3,2]{s=[3,3]}}^{a=S} + \\gamma V^{\\pi}(s=[3,3])) + \n",
    "\\frac{1}{4}(R_{s=[3,2]{s=[2,2]}}^{a=W} + \\gamma V^{\\pi}(s=[2,2])) + \n",
    "\\frac{1}{4}(R_{s=[3,2]{s=[3,1]}}^{a=N} + \\gamma V^{\\pi}(s=[3,1])) $$\n",
    " "
   ]
  },
  {
   "cell_type": "markdown",
   "metadata": {},
   "source": [
    "Since [3,2] is not next to the edge and there is no special condition, move around will lead to zero reward and each movement is deterministic. "
   ]
  },
  {
   "cell_type": "markdown",
   "metadata": {},
   "source": [
    "$$ 4V([3,2]) = \n",
    "\\gamma V([4,2]) + \n",
    "\\gamma V([3,3]) + \n",
    "\\gamma V([2,2]) + \n",
    "\\gamma V([3,1]) $$\n",
    " "
   ]
  },
  {
   "cell_type": "markdown",
   "metadata": {},
   "source": [
    "### 3. Iterate through all the cells\n"
   ]
  },
  {
   "cell_type": "markdown",
   "metadata": {},
   "source": [
    "If we go through the cell one by one, we will have 25 equations and the number of unknowns will also be 25 given $\\gamma = 0.9$. Actually, 25 is not the end of the world, why don't we just write down all the equations and see if we can solve it, or if it is even solvable or not (if those equations are not independent, then we will not be able to find a unique solution). Of course, for that many equations, let's simplify the notation even further more to save some real estate on the screen, $V([x,y])$ now will be represented in $V_{xy}$. \n",
    "\n",
    "Also, manualy write down everything is a bit tediou, let us write a utility function to auto generate all the 25 functions.\n",
    "\n",
    "$$ 4V_{xy} =\n",
    "r_{x+1,y} + V_{x+1,y} + \n",
    "r_{x,y+1} + V_{x,y+1} +\n",
    "r_{x-1,y} + V_{x-1,y} +\n",
    "r_{x,y-1} + V_{x+1,y-1} $$\n",
    "\n",
    "We can easily write a logic to determine r because if the subscript of r goes out of bound, like not within the range between 0 and 4. We know it hit the wall and should change the corresponding V to be the starting cell and at the same time, set the reward to be -1. Otherwise, it is 0. In the end, we can override the equation for A,B to account for the teleport situation:"
   ]
  },
  {
   "cell_type": "code",
   "execution_count": 57,
   "metadata": {
    "collapsed": true
   },
   "outputs": [
    {
     "name": "stdout",
     "output_type": "stream",
     "text": [
      "$$4V_{00}=\\gamma V_{10}+0+\\gamma V_{01}+0+\\gamma V_{00}+-1+\\gamma V_{00}+-1 $$\n",
      "$$4V_{01}=\\gamma V_{11}+0+\\gamma V_{02}+0+\\gamma V_{01}+-1+\\gamma V_{00}+0 $$\n",
      "$$4V_{02}=\\gamma V_{12}+0+\\gamma V_{03}+0+\\gamma V_{02}+-1+\\gamma V_{01}+0 $$\n",
      "$$4V_{03}=\\gamma V_{13}+0+\\gamma V_{04}+0+\\gamma V_{03}+-1+\\gamma V_{02}+0 $$\n",
      "$$4V_{04}=\\gamma V_{14}+0+\\gamma V_{04}+-1+\\gamma V_{04}+-1+\\gamma V_{03}+0 $$\n",
      "$$4V_{10}=\\gamma V_{20}+0+\\gamma V_{11}+0+\\gamma V_{00}+0+\\gamma V_{10}+-1 $$\n",
      "$$4V_{11}=\\gamma V_{21}+0+\\gamma V_{12}+0+\\gamma V_{01}+0+\\gamma V_{10}+0 $$\n",
      "$$4V_{12}=\\gamma V_{22}+0+\\gamma V_{13}+0+\\gamma V_{02}+0+\\gamma V_{11}+0 $$\n",
      "$$4V_{13}=\\gamma V_{23}+0+\\gamma V_{14}+0+\\gamma V_{03}+0+\\gamma V_{12}+0 $$\n",
      "$$4V_{14}=\\gamma V_{24}+0+\\gamma V_{14}+-1+\\gamma V_{04}+0+\\gamma V_{13}+0 $$\n",
      "$$4V_{20}=\\gamma V_{30}+0+\\gamma V_{21}+0+\\gamma V_{10}+0+\\gamma V_{20}+-1 $$\n",
      "$$4V_{21}=\\gamma V_{31}+0+\\gamma V_{22}+0+\\gamma V_{11}+0+\\gamma V_{20}+0 $$\n",
      "$$4V_{22}=\\gamma V_{32}+0+\\gamma V_{23}+0+\\gamma V_{12}+0+\\gamma V_{21}+0 $$\n",
      "$$4V_{23}=\\gamma V_{33}+0+\\gamma V_{24}+0+\\gamma V_{13}+0+\\gamma V_{22}+0 $$\n",
      "$$4V_{24}=\\gamma V_{34}+0+\\gamma V_{24}+-1+\\gamma V_{14}+0+\\gamma V_{23}+0 $$\n",
      "$$4V_{30}=\\gamma V_{40}+0+\\gamma V_{31}+0+\\gamma V_{20}+0+\\gamma V_{30}+-1 $$\n",
      "$$4V_{31}=\\gamma V_{41}+0+\\gamma V_{32}+0+\\gamma V_{21}+0+\\gamma V_{30}+0 $$\n",
      "$$4V_{32}=\\gamma V_{42}+0+\\gamma V_{33}+0+\\gamma V_{22}+0+\\gamma V_{31}+0 $$\n",
      "$$4V_{33}=\\gamma V_{43}+0+\\gamma V_{34}+0+\\gamma V_{23}+0+\\gamma V_{32}+0 $$\n",
      "$$4V_{34}=\\gamma V_{44}+0+\\gamma V_{34}+-1+\\gamma V_{24}+0+\\gamma V_{33}+0 $$\n",
      "$$4V_{40}=\\gamma V_{40}+-1+\\gamma V_{41}+0+\\gamma V_{30}+0+\\gamma V_{40}+-1 $$\n",
      "$$4V_{41}=\\gamma V_{41}+-1+\\gamma V_{42}+0+\\gamma V_{31}+0+\\gamma V_{40}+0 $$\n",
      "$$4V_{42}=\\gamma V_{42}+-1+\\gamma V_{43}+0+\\gamma V_{32}+0+\\gamma V_{41}+0 $$\n",
      "$$4V_{43}=\\gamma V_{43}+-1+\\gamma V_{44}+0+\\gamma V_{33}+0+\\gamma V_{42}+0 $$\n",
      "$$4V_{44}=\\gamma V_{44}+-1+\\gamma V_{44}+-1+\\gamma V_{34}+0+\\gamma V_{43}+0 $$\n"
     ]
    }
   ],
   "source": [
    "# I am really interested in finding a more neat way of coding this logic\n",
    "size = 5\n",
    "for x in range(size):\n",
    "    for y in range(size):\n",
    "        equation = \"\"\"$$4V_{{{0}{1}}}=\"\"\".format(x,y)\n",
    "        step = \"\"\"\\gamma V_{{{x_}{y_}}}+{r}\"\"\"\n",
    "        # build up each step \n",
    "        # E: x+1, y\n",
    "        r = 0\n",
    "        x_ = x+1\n",
    "        y_ = y \n",
    "        if x_ > size - 1:\n",
    "            x_ = x\n",
    "            r = -1\n",
    "        equation = equation + step.format(**{'r':r, 'x_':x_, 'y_':y_})\n",
    "        \n",
    "        # S: x, y+1\n",
    "        r = 0\n",
    "        x_ = x\n",
    "        y_ = y+1 \n",
    "        if y_ > size - 1:\n",
    "            y_ = y\n",
    "            r = -1\n",
    "        equation = equation + '+' + step.format(**{'r':r, 'x_':x_, 'y_':y_})\n",
    "\n",
    "        # W: x-1, y\n",
    "        r = 0\n",
    "        x_ = x-1\n",
    "        y_ = y \n",
    "        if x_ < 0:\n",
    "            x_ = x\n",
    "            r = -1\n",
    "        equation = equation + '+' + step.format(**{'r':r, 'x_':x_, 'y_':y_})\n",
    "\n",
    "        # N: x, y-1\n",
    "        r = 0\n",
    "        x_ = x\n",
    "        y_ = y-1 \n",
    "        if y_ < 0:\n",
    "            y_ = y\n",
    "            r = -1\n",
    "        equation = equation + '+' + step.format(**{'r':r, 'x_':x_, 'y_':y_})\n",
    "        \n",
    "        equation += \" $$\"\n",
    "        print(equation)"
   ]
  },
  {
   "cell_type": "markdown",
   "metadata": {},
   "source": [
    "$$ 4V_{00}=\\gamma V_{10}+0+\\gamma V_{01}+0+\\gamma V_{00}+-1+\\gamma V_{00}+-1 $$\n",
    "$$ 4V_{01}=\\gamma V_{11}+0+\\gamma V_{02}+0+\\gamma V_{01}+-1+\\gamma V_{00}+0 $$\n",
    "$$ 4V_{02}=\\gamma V_{12}+0+\\gamma V_{03}+0+\\gamma V_{02}+-1+\\gamma V_{01}+0 $$\n",
    "$$ 4V_{03}=\\gamma V_{13}+0+\\gamma V_{04}+0+\\gamma V_{03}+-1+\\gamma V_{02}+0 $$\n",
    "$$ 4V_{04}=\\gamma V_{14}+0+\\gamma V_{04}+-1+\\gamma V_{04}+-1+\\gamma V_{03}+0 $$\n",
    "$$ 4V_{10}=\\gamma V_{20}+0+\\gamma V_{11}+0+\\gamma V_{00}+0+\\gamma V_{10}+-1 $$\n",
    "$$ 4V_{11}=\\gamma V_{21}+0+\\gamma V_{12}+0+\\gamma V_{01}+0+\\gamma V_{10}+0 $$\n",
    "$$ 4V_{12}=\\gamma V_{22}+0+\\gamma V_{13}+0+\\gamma V_{02}+0+\\gamma V_{11}+0 $$\n",
    "$$ 4V_{13}=\\gamma V_{23}+0+\\gamma V_{14}+0+\\gamma V_{03}+0+\\gamma V_{12}+0 $$\n",
    "$$ 4V_{14}=\\gamma V_{24}+0+\\gamma V_{14}+-1+\\gamma V_{04}+0+\\gamma V_{13}+0 $$\n",
    "$$ 4V_{20}=\\gamma V_{30}+0+\\gamma V_{21}+0+\\gamma V_{10}+0+\\gamma V_{20}+-1 $$\n",
    "$$ 4V_{21}=\\gamma V_{31}+0+\\gamma V_{22}+0+\\gamma V_{11}+0+\\gamma V_{20}+0 $$\n",
    "$$ 4V_{22}=\\gamma V_{32}+0+\\gamma V_{23}+0+\\gamma V_{12}+0+\\gamma V_{21}+0 $$\n",
    "$$ 4V_{23}=\\gamma V_{33}+0+\\gamma V_{24}+0+\\gamma V_{13}+0+\\gamma V_{22}+0 $$\n",
    "$$ 4V_{24}=\\gamma V_{34}+0+\\gamma V_{24}+-1+\\gamma V_{14}+0+\\gamma V_{23}+0 $$\n",
    "$$ 4V_{30}=\\gamma V_{40}+0+\\gamma V_{31}+0+\\gamma V_{20}+0+\\gamma V_{30}+-1 $$\n",
    "$$ 4V_{31}=\\gamma V_{41}+0+\\gamma V_{32}+0+\\gamma V_{21}+0+\\gamma V_{30}+0 $$\n",
    "$$ 4V_{32}=\\gamma V_{42}+0+\\gamma V_{33}+0+\\gamma V_{22}+0+\\gamma V_{31}+0 $$\n",
    "$$ 4V_{33}=\\gamma V_{43}+0+\\gamma V_{34}+0+\\gamma V_{23}+0+\\gamma V_{32}+0 $$\n",
    "$$ 4V_{34}=\\gamma V_{44}+0+\\gamma V_{34}+-1+\\gamma V_{24}+0+\\gamma V_{33}+0 $$\n",
    "$$ 4V_{40}=\\gamma V_{40}+-1+\\gamma V_{41}+0+\\gamma V_{30}+0+\\gamma V_{40}+-1 $$\n",
    "$$ 4V_{41}=\\gamma V_{41}+-1+\\gamma V_{42}+0+\\gamma V_{31}+0+\\gamma V_{40}+0 $$\n",
    "$$ 4V_{42}=\\gamma V_{42}+-1+\\gamma V_{43}+0+\\gamma V_{32}+0+\\gamma V_{41}+0 $$\n",
    "$$ 4V_{43}=\\gamma V_{43}+-1+\\gamma V_{44}+0+\\gamma V_{33}+0+\\gamma V_{42}+0 $$\n",
    "$$ 4V_{44}=\\gamma V_{44}+-1+\\gamma V_{44}+-1+\\gamma V_{34}+0+\\gamma V_{43}+0 $$\n"
   ]
  },
  {
   "cell_type": "markdown",
   "metadata": {},
   "source": [
    "Since we did not take the teleport into consideration, now we just need to replace V(1,0) and V(3,0) with the following two cells:\n",
    "\n",
    "$$ V(s=[1,0]) = \n",
    "10 + \\gamma V(s=[1,4]) $$\n",
    "\n",
    "$$ V(s=[3,0]) = \n",
    "10 + \\gamma V(s=[3,3]) $$"
   ]
  },
  {
   "cell_type": "markdown",
   "metadata": {},
   "source": [
    "### 4. Solve the linear system\n"
   ]
  },
  {
   "cell_type": "markdown",
   "metadata": {},
   "source": [
    "Solve the system of equations $3 * x_0 + x_1 = 9$ and $x_0 + 2 * x_1 = 8$:"
   ]
  },
  {
   "cell_type": "code",
   "execution_count": 99,
   "metadata": {},
   "outputs": [
    {
     "data": {
      "text/plain": [
       "array([ 2.,  3.])"
      ]
     },
     "execution_count": 99,
     "metadata": {},
     "output_type": "execute_result"
    }
   ],
   "source": [
    "a = np.array([[3,1], [1,2]])\n",
    "b = np.array([9,8])\n",
    "x = np.linalg.solve(a, b)\n",
    "x"
   ]
  },
  {
   "cell_type": "markdown",
   "metadata": {},
   "source": [
    "To solve the the linear system that we printed out, we need to transform the problem in a way where all the unknowns are on the left and all the scalars are on the right. Frankly speaking, printing out a problem into a human friendly is only helpful from the perspective of validating if the logic is right, however, if the goal is to solve the problem, I probably will not even bother to do all those hard coding and string manipulation, instead will directly frame the problem in a way that of the linear system format above. However, it is never too late, I am going to maybe copy and paste most of the code above, but modify that in a way that is easier to feed to numpy. \n",
    "\n",
    "First we need to know that we have to iterate through each cell. From each iteration, we are supposed to get a list of length 25 that store the coefficients of all the state value function that exist in that equation, if not, use 0. We will also return a number that is the scalar on the right hand side and this number will be used to append to a list $y$ one equation after the other until all finished which will ended up with a length of 25. "
   ]
  },
  {
   "cell_type": "code",
   "execution_count": 154,
   "metadata": {},
   "outputs": [
    {
     "name": "stdout",
     "output_type": "stream",
     "text": [
      ">>>  0 0\n",
      "[ 2.2 -0.9  0.   0.   0.  -0.9  0.   0.   0.   0.   0.   0.   0.   0.   0.\n",
      "  0.   0.   0.   0.   0.   0.   0.   0.   0.   0. ]\n",
      "[-2, 0, 0, 0, 0, 0, 0, 0, 0, 0, 0, 0, 0, 0, 0, 0, 0, 0, 0, 0, 0, 0, 0, 0, 0]\n",
      ">>>  0 1\n",
      "[-0.9  3.1 -0.9  0.   0.   0.  -0.9  0.   0.   0.   0.   0.   0.   0.   0.\n",
      "  0.   0.   0.   0.   0.   0.   0.   0.   0.   0. ]\n",
      "[-2, -1, 0, 0, 0, 0, 0, 0, 0, 0, 0, 0, 0, 0, 0, 0, 0, 0, 0, 0, 0, 0, 0, 0, 0]\n",
      ">>>  0 2\n",
      "[ 0.  -0.9  3.1 -0.9  0.   0.   0.  -0.9  0.   0.   0.   0.   0.   0.   0.\n",
      "  0.   0.   0.   0.   0.   0.   0.   0.   0.   0. ]\n",
      "[-2, -1, -1, 0, 0, 0, 0, 0, 0, 0, 0, 0, 0, 0, 0, 0, 0, 0, 0, 0, 0, 0, 0, 0, 0]\n",
      ">>>  0 3\n",
      "[ 0.   0.  -0.9  3.1 -0.9  0.   0.   0.  -0.9  0.   0.   0.   0.   0.   0.\n",
      "  0.   0.   0.   0.   0.   0.   0.   0.   0.   0. ]\n",
      "[-2, -1, -1, -1, 0, 0, 0, 0, 0, 0, 0, 0, 0, 0, 0, 0, 0, 0, 0, 0, 0, 0, 0, 0, 0]\n",
      ">>>  0 4\n",
      "[  5.729e-313   3.390e+304   2.244e-314  -9.000e-001   2.200e+000\n",
      "   7.427e-313   1.698e-313   6.942e-310   2.122e-314  -9.000e-001\n",
      "   5.729e-313   6.942e-310   6.942e-310   9.881e-324   1.698e-313\n",
      "   6.942e-310   6.942e-310   6.942e-310   1.698e-313   1.698e-313\n",
      "   2.122e-314   2.223e-314   6.942e-310   6.942e-310   8.912e-313]\n",
      "[-2, -1, -1, -1, -2, 0, 0, 0, 0, 0, 0, 0, 0, 0, 0, 0, 0, 0, 0, 0, 0, 0, 0, 0, 0]\n",
      ">>>  1 1\n",
      "[ 0.  -0.9  0.   0.   0.  -0.9  4.  -0.9  0.   0.   0.  -0.9  0.   0.   0.\n",
      "  0.   0.   0.   0.   0.   0.   0.   0.   0.   0. ]\n",
      "[-2, -1, -1, -1, -2, 0, 0, 0, 0, 0, 0, 0, 0, 0, 0, 0, 0, 0, 0, 0, 0, 0, 0, 0, 0]\n",
      ">>>  1 2\n",
      "[ 0.   0.  -0.9  0.   0.   0.  -0.9  4.  -0.9  0.   0.   0.  -0.9  0.   0.\n",
      "  0.   0.   0.   0.   0.   0.   0.   0.   0.   0. ]\n",
      "[-2, -1, -1, -1, -2, 0, 0, 0, 0, 0, 0, 0, 0, 0, 0, 0, 0, 0, 0, 0, 0, 0, 0, 0, 0]\n",
      ">>>  1 3\n",
      "[ 0.   0.   0.  -0.9  0.   0.   0.  -0.9  4.  -0.9  0.   0.   0.  -0.9  0.\n",
      "  0.   0.   0.   0.   0.   0.   0.   0.   0.   0. ]\n",
      "[-2, -1, -1, -1, -2, 0, 0, 0, 0, 0, 0, 0, 0, 0, 0, 0, 0, 0, 0, 0, 0, 0, 0, 0, 0]\n",
      ">>>  1 4\n",
      "[ 0.   0.   0.   0.  -0.9  0.   0.   0.  -0.9  3.1  0.   0.   0.   0.  -0.9\n",
      "  0.   0.   0.   0.   0.   0.   0.   0.   0.   0. ]\n",
      "[-2, -1, -1, -1, -2, 0, 0, 0, 0, -1, 0, 0, 0, 0, 0, 0, 0, 0, 0, 0, 0, 0, 0, 0, 0]\n",
      ">>>  2 0\n",
      "[ 0.   0.   0.   0.   0.  -0.9  0.   0.   0.   0.   3.1 -0.9  0.   0.   0.\n",
      " -0.9  0.   0.   0.   0.   0.   0.   0.   0.   0. ]\n",
      "[-2, -1, -1, -1, -2, 0, 0, 0, 0, -1, -1, 0, 0, 0, 0, 0, 0, 0, 0, 0, 0, 0, 0, 0, 0]\n",
      ">>>  2 1\n",
      "[ 0.   0.   0.   0.   0.   0.  -0.9  0.   0.   0.  -0.9  4.  -0.9  0.   0.\n",
      "  0.  -0.9  0.   0.   0.   0.   0.   0.   0.   0. ]\n",
      "[-2, -1, -1, -1, -2, 0, 0, 0, 0, -1, -1, 0, 0, 0, 0, 0, 0, 0, 0, 0, 0, 0, 0, 0, 0]\n",
      ">>>  2 2\n",
      "[ 0.   0.   0.   0.   0.   0.   0.  -0.9  0.   0.   0.  -0.9  4.  -0.9  0.\n",
      "  0.   0.  -0.9  0.   0.   0.   0.   0.   0.   0. ]\n",
      "[-2, -1, -1, -1, -2, 0, 0, 0, 0, -1, -1, 0, 0, 0, 0, 0, 0, 0, 0, 0, 0, 0, 0, 0, 0]\n",
      ">>>  2 3\n",
      "[ 0.   0.   0.   0.   0.   0.   0.   0.  -0.9  0.   0.   0.  -0.9  4.  -0.9\n",
      "  0.   0.   0.  -0.9  0.   0.   0.   0.   0.   0. ]\n",
      "[-2, -1, -1, -1, -2, 0, 0, 0, 0, -1, -1, 0, 0, 0, 0, 0, 0, 0, 0, 0, 0, 0, 0, 0, 0]\n",
      ">>>  2 4\n",
      "[ 0.   0.   0.   0.   0.   0.   0.   0.   0.  -0.9  0.   0.   0.  -0.9  3.1\n",
      "  0.   0.   0.   0.  -0.9  0.   0.   0.   0.   0. ]\n",
      "[-2, -1, -1, -1, -2, 0, 0, 0, 0, -1, -1, 0, 0, 0, -1, 0, 0, 0, 0, 0, 0, 0, 0, 0, 0]\n",
      ">>>  3 1\n",
      "[ 0.   0.   0.   0.   0.   0.   0.   0.   0.   0.   0.  -0.9  0.   0.   0.\n",
      " -0.9  4.  -0.9  0.   0.   0.  -0.9  0.   0.   0. ]\n",
      "[-2, -1, -1, -1, -2, 0, 0, 0, 0, -1, -1, 0, 0, 0, -1, 0, 0, 0, 0, 0, 0, 0, 0, 0, 0]\n",
      ">>>  3 2\n",
      "[ 0.   0.   0.   0.   0.   0.   0.   0.   0.   0.   0.   0.  -0.9  0.   0.\n",
      "  0.  -0.9  4.  -0.9  0.   0.   0.  -0.9  0.   0. ]\n",
      "[-2, -1, -1, -1, -2, 0, 0, 0, 0, -1, -1, 0, 0, 0, -1, 0, 0, 0, 0, 0, 0, 0, 0, 0, 0]\n",
      ">>>  3 3\n",
      "[ 0.   0.   0.   0.   0.   0.   0.   0.   0.   0.   0.   0.   0.  -0.9  0.\n",
      "  0.   0.  -0.9  4.  -0.9  0.   0.   0.  -0.9  0. ]\n",
      "[-2, -1, -1, -1, -2, 0, 0, 0, 0, -1, -1, 0, 0, 0, -1, 0, 0, 0, 0, 0, 0, 0, 0, 0, 0]\n",
      ">>>  3 4\n",
      "[ 0.   0.   0.   0.   0.   0.   0.   0.   0.   0.   0.   0.   0.   0.  -0.9\n",
      "  0.   0.   0.  -0.9  3.1  0.   0.   0.   0.  -0.9]\n",
      "[-2, -1, -1, -1, -2, 0, 0, 0, 0, -1, -1, 0, 0, 0, -1, 0, 0, 0, 0, -1, 0, 0, 0, 0, 0]\n",
      ">>>  4 0\n",
      "[ 0.   0.   0.   0.   0.   0.   0.   0.   0.   0.   0.   0.   0.   0.   0.\n",
      " -0.9  0.   0.   0.   0.   2.2 -0.9  0.   0.   0. ]\n",
      "[-2, -1, -1, -1, -2, 0, 0, 0, 0, -1, -1, 0, 0, 0, -1, 0, 0, 0, 0, -1, -2, 0, 0, 0, 0]\n",
      ">>>  4 1\n",
      "[ 0.   0.   0.   0.   0.   0.   0.   0.   0.   0.   0.   0.   0.   0.   0.\n",
      "  0.  -0.9  0.   0.   0.  -0.9  3.1 -0.9  0.   0. ]\n",
      "[-2, -1, -1, -1, -2, 0, 0, 0, 0, -1, -1, 0, 0, 0, -1, 0, 0, 0, 0, -1, -2, -1, 0, 0, 0]\n",
      ">>>  4 2\n",
      "[ 0.   0.   0.   0.   0.   0.   0.   0.   0.   0.   0.   0.   0.   0.   0.\n",
      "  0.   0.  -0.9  0.   0.   0.  -0.9  3.1 -0.9  0. ]\n",
      "[-2, -1, -1, -1, -2, 0, 0, 0, 0, -1, -1, 0, 0, 0, -1, 0, 0, 0, 0, -1, -2, -1, -1, 0, 0]\n",
      ">>>  4 3\n",
      "[ 0.   0.   0.   0.   0.   0.   0.   0.   0.   0.   0.   0.   0.   0.   0.\n",
      "  0.   0.   0.  -0.9  0.   0.   0.  -0.9  3.1 -0.9]\n",
      "[-2, -1, -1, -1, -2, 0, 0, 0, 0, -1, -1, 0, 0, 0, -1, 0, 0, 0, 0, -1, -2, -1, -1, -1, 0]\n",
      ">>>  4 4\n",
      "[ 0.   0.   0.   0.   0.   0.   0.   0.   0.   0.   0.   0.   0.   0.   0.\n",
      "  0.   0.   0.   0.  -0.9  0.   0.   0.  -0.9  2.2]\n",
      "[-2, -1, -1, -1, -2, 0, 0, 0, 0, -1, -1, 0, 0, 0, -1, 0, 0, 0, 0, -1, -2, -1, -1, -1, -2]\n"
     ]
    }
   ],
   "source": [
    "coef = np.ndarray([size*size,size*size])\n",
    "gamma = 0.9\n",
    "res = [0 for i in range(size*size)]\n",
    "for x in range(size):\n",
    "    for y in range(size):\n",
    "        \n",
    "        equation_num = x*size+y\n",
    "        res[equation_num] = 0\n",
    "        # skip teleport points for now, deal with later \n",
    "        if equation_num in (5, 15):\n",
    "            continue\n",
    "        \n",
    "        \n",
    "        # top-left:0, bot-left:4, top-right:20, bot-right:24\n",
    "        cell_num = x*size+y \n",
    "        coef[equation_num][cell_num] = 4  \n",
    "        \n",
    "        # E: x+1, y\n",
    "        r = 0\n",
    "        x_ = x+1\n",
    "        y_ = y \n",
    "        if x_ > size - 1:\n",
    "            x_ = x\n",
    "            r = -1 \n",
    "        coef[equation_num][x_*size+y_] -= gamma \n",
    "        res[equation_num] += r\n",
    "        \n",
    "        # S: x, y+1\n",
    "        r = 0\n",
    "        x_ = x\n",
    "        y_ = y+1 \n",
    "        if y_ > size - 1:\n",
    "            y_ = y\n",
    "            r = -1\n",
    "        coef[equation_num][x_*size+y_] -= gamma \n",
    "        res[equation_num] += r\n",
    "\n",
    "\n",
    "        # W: x-1, y\n",
    "        r = 0\n",
    "        x_ = x-1\n",
    "        y_ = y \n",
    "        if x_ < 0:\n",
    "            x_ = x\n",
    "            r = -1\n",
    "        coef[equation_num][x_*size+y_] -= gamma \n",
    "        res[equation_num] += r\n",
    "        # N: x, y-1\n",
    "        r = 0\n",
    "        x_ = x\n",
    "        y_ = y-1 \n",
    "        if y_ < 0:\n",
    "            y_ = y\n",
    "            r = -1\n",
    "        coef[equation_num][x_*size+y_] -= gamma \n",
    "        res[equation_num] += r\n",
    "        \n",
    "        print('>>> ', x, y)\n",
    "        print(coef[equation_num])\n",
    "        print(res)"
   ]
  },
  {
   "cell_type": "markdown",
   "metadata": {},
   "source": [
    "$$ V(s=[1,0]) = \n",
    "10 + \\gamma V(s=[1,4]) $$\n",
    "\n",
    "$$ V(s=[3,0]) = \n",
    "10 + \\gamma V(s=[3,3]) $$"
   ]
  },
  {
   "cell_type": "code",
   "execution_count": 192,
   "metadata": {},
   "outputs": [
    {
     "name": "stdout",
     "output_type": "stream",
     "text": [
      "[[-2 10 -1 10 -2]\n",
      " [-1  0  0  0 -1]\n",
      " [-1  0  0  0 -1]\n",
      " [-1  0  0  0 -1]\n",
      " [-2 -1 -1 -1 -2]]\n"
     ]
    }
   ],
   "source": [
    "# V(s=[1,0])\n",
    "equation_num = 1 * size + 0 \n",
    "coef[equation_num][1 * size + 0] = 1\n",
    "coef[equation_num][1 * size + 4] -= gamma\n",
    "res[equation_num] = 10\n",
    "\n",
    "# V(s=[3,0])\n",
    "equation_num = 3 * size + 0 \n",
    "coef[equation_num][3 * size + 0] = 1 \n",
    "coef[equation_num][3 * size + 3] -= gamma \n",
    "res[equation_num] = 10\n",
    "\n",
    "t = np.array(res)\n",
    "t.shape = (5,5)\n",
    "print(t.transpose())"
   ]
  },
  {
   "cell_type": "markdown",
   "metadata": {},
   "source": [
    "Before we even try to pass that to a solver, let's first do a few manual check, how about compare the coefficient with the three states that we have calculated and see if those three equations holds true:"
   ]
  },
  {
   "cell_type": "markdown",
   "metadata": {},
   "source": [
    "#### S[0,0]\n",
    "$$(4 - 2 * 0.9)V([0,0]) = 0.9 V([1,0]) + 0.9 V([0,1]) - 2  $$\n"
   ]
  },
  {
   "cell_type": "markdown",
   "metadata": {},
   "source": [
    "$$c0 = 2.2$$\n",
    "$$c5 = -0.9$$\n",
    "$$c1 = -0.9$$\n",
    "$$y0 = -2$$"
   ]
  },
  {
   "cell_type": "code",
   "execution_count": 156,
   "metadata": {},
   "outputs": [
    {
     "name": "stdout",
     "output_type": "stream",
     "text": [
      "[ 2.2 -0.9  0.   0.   0.  -0.9  0.   0.   0.   0.   0.   0.   0.   0.   0.\n",
      "  0.   0.   0.   0.   0.   0.   0.   0.   0.   0. ]\n",
      "-2\n"
     ]
    }
   ],
   "source": [
    "np.set_printoptions(precision=3, suppress=True)\n",
    "print(coef[0])\n",
    "print(res[0])"
   ]
  },
  {
   "cell_type": "markdown",
   "metadata": {},
   "source": [
    "#### S[1,0]\n",
    "\n",
    "$$ V(s=[1,0]) = 10 + 0.9 V(s=[1,4]) $$\n",
    "$$c5 = 1$$\n",
    "$$c9 = -0.9$$\n",
    "$$y5 = 10$$"
   ]
  },
  {
   "cell_type": "code",
   "execution_count": 167,
   "metadata": {},
   "outputs": [
    {
     "name": "stdout",
     "output_type": "stream",
     "text": [
      "[ 0.   0.   0.   0.   0.   1.   0.   0.   0.  -0.9  0.   0.   0.   0.   0.\n",
      "  0.   0.   0.   0.   0.   0.   0.   0.   0.   0. ]\n",
      "10\n"
     ]
    }
   ],
   "source": [
    "np.set_printoptions(precision=3, suppress=True)\n",
    "print(coef[5])\n",
    "print(res[5])"
   ]
  },
  {
   "cell_type": "markdown",
   "metadata": {},
   "source": [
    "#### S[3,2]\n",
    "\n",
    "$$ 4V([3,2]) = \n",
    "0.9 V([4,2]) + \n",
    "0.9 V([3,3]) + \n",
    "0.9 V([2,2]) + \n",
    "0.9 V([3,1]) $$\n",
    "\n",
    "$$c17=4$$\n",
    "$$c22=-0.9$$\n",
    "$$c18=-0.9$$\n",
    "$$c12=-0.9$$\n",
    "$$c16=-0.9$$\n",
    "$$y17=0$$"
   ]
  },
  {
   "cell_type": "code",
   "execution_count": 201,
   "metadata": {},
   "outputs": [
    {
     "name": "stdout",
     "output_type": "stream",
     "text": [
      "[ 0.   0.   0.   0.   0.   0.   0.   0.   0.   0.   0.   0.  -0.9  0.   0.\n",
      "  0.  -0.9  4.  -0.9  0.   0.   0.  -0.9  0.   0. ]\n",
      "0\n"
     ]
    }
   ],
   "source": [
    "np.set_printoptions(precision=3, suppress=True)\n",
    "print(coef[17])\n",
    "print(res[17])"
   ]
  },
  {
   "cell_type": "code",
   "execution_count": 206,
   "metadata": {},
   "outputs": [
    {
     "name": "stdout",
     "output_type": "stream",
     "text": [
      "-2.0\n",
      "-2\n",
      "10.0\n",
      "10\n",
      "-9.99200722163e-16\n",
      "0\n"
     ]
    }
   ],
   "source": [
    "# a = np.array(coef)\n",
    "# b = np.array(res)\n",
    "v = np.linalg.solve(coef, res)\n",
    "\n",
    "print(np.dot(coef[0],v))\n",
    "print(res[0])\n",
    "\n",
    "print(np.dot(coef[5],v))\n",
    "print(res[5])\n",
    "\n",
    "print(np.dot(coef[17],v))\n",
    "print(res[17])"
   ]
  },
  {
   "cell_type": "code",
   "execution_count": 207,
   "metadata": {},
   "outputs": [
    {
     "name": "stdout",
     "output_type": "stream",
     "text": [
      "-2.01\n",
      "-2\n",
      "13.48\n",
      "10\n",
      "0.16\n",
      "0\n"
     ]
    }
   ],
   "source": [
    "v_book = [\n",
    "    3.3, 1.5, 0.1, -1.0, -1.9,\n",
    "    8.8, 3.0, 0.7, -0.4, -1.3,\n",
    "    4.4, 2.3, 0.7, -0.4, -1.2, \n",
    "    5.3, 1.9, 0.4, -0.6, -1.4,\n",
    "    1.5, 0.5, -0.4, -1.2, -2.0\n",
    "]\n",
    "\n",
    "print(np.dot(coef[0],v_book))\n",
    "print(res[0])\n",
    "\n",
    "print(np.dot(coef[5],v_book))\n",
    "print(res[5])\n",
    "\n",
    "print(np.dot(coef[17],v_book))\n",
    "print(res[17])"
   ]
  },
  {
   "cell_type": "code",
   "execution_count": 208,
   "metadata": {},
   "outputs": [
    {
     "name": "stdout",
     "output_type": "stream",
     "text": [
      "[ 0.642  0.    -0.77  -1.536 -2.545  3.792  1.239 -0.007 -0.863 -1.724\n",
      "  3.544  1.722  0.363 -0.569 -1.42   7.803  2.508  0.469 -0.61  -1.486\n",
      "  2.755  1.154 -0.178 -1.126 -1.978]\n"
     ]
    }
   ],
   "source": [
    "print(v)"
   ]
  },
  {
   "cell_type": "code",
   "execution_count": 209,
   "metadata": {},
   "outputs": [
    {
     "data": {
      "text/plain": [
       "True"
      ]
     },
     "execution_count": 209,
     "metadata": {},
     "output_type": "execute_result"
    }
   ],
   "source": [
    "np.allclose(np.dot(coef, v), res, rtol=0.1)"
   ]
  },
  {
   "cell_type": "code",
   "execution_count": 211,
   "metadata": {},
   "outputs": [
    {
     "data": {
      "text/plain": [
       "False"
      ]
     },
     "execution_count": 211,
     "metadata": {},
     "output_type": "execute_result"
    }
   ],
   "source": [
    "np.allclose(v, v_book, rtol=0.5)"
   ]
  },
  {
   "cell_type": "code",
   "execution_count": null,
   "metadata": {
    "collapsed": true
   },
   "outputs": [],
   "source": []
  }
 ],
 "metadata": {
  "kernelspec": {
   "display_name": "Python 3",
   "language": "python",
   "name": "python3"
  },
  "language_info": {
   "codemirror_mode": {
    "name": "ipython",
    "version": 3
   },
   "file_extension": ".py",
   "mimetype": "text/x-python",
   "name": "python",
   "nbconvert_exporter": "python",
   "pygments_lexer": "ipython3",
   "version": "3.6.3"
  }
 },
 "nbformat": 4,
 "nbformat_minor": 2
}
