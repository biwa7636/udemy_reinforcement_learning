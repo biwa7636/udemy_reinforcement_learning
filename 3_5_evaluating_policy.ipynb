{
 "cells": [
  {
   "cell_type": "markdown",
   "metadata": {},
   "source": [
    "# Lesson 3-5"
   ]
  },
  {
   "cell_type": "markdown",
   "metadata": {},
   "source": [
    "This solution code is used for personal use and reference only for people who needs a second perspective\n",
    "Credits goes to the Udemy class"
   ]
  },
  {
   "cell_type": "code",
   "execution_count": 32,
   "metadata": {
    "collapsed": true
   },
   "outputs": [],
   "source": [
    "import numpy as np"
   ]
  },
  {
   "cell_type": "code",
   "execution_count": 40,
   "metadata": {
    "collapsed": false
   },
   "outputs": [],
   "source": [
    "# 1. state transition to immediate rewards\n",
    "def state_to_rewards(s):\n",
    "    '''\n",
    "    state_to_rewards('g')\n",
    "    '''\n",
    "    rewards = {\n",
    "        'w': 0.0,\n",
    "        'r': -0.2,\n",
    "        'g': 1.0\n",
    "    }\n",
    "    return rewards[s]"
   ]
  },
  {
   "cell_type": "code",
   "execution_count": 41,
   "metadata": {
    "collapsed": true
   },
   "outputs": [],
   "source": [
    "# 2. truncate according to horizon\n",
    "def truncate_to_horizon(series_of_states):\n",
    "    T = 5\n",
    "    return series_of_states[:T]"
   ]
  },
  {
   "cell_type": "code",
   "execution_count": 42,
   "metadata": {
    "collapsed": true
   },
   "outputs": [],
   "source": [
    "# 3. summarize sequence\n",
    "def summarize_sequence(series_of_states):\n",
    "    res = 0\n",
    "    r = 0.8\n",
    "    for idx, state in enumerate(series_of_states):\n",
    "        reward = state_to_rewards(state)\n",
    "        weight = np.power(r, idx+1)\n",
    "        res += weight * reward\n",
    "        print '>>>', idx, weight, state, reward, res\n",
    "\n",
    "    return res"
   ]
  },
  {
   "cell_type": "code",
   "execution_count": 43,
   "metadata": {
    "collapsed": true
   },
   "outputs": [],
   "source": [
    "# 4. summarize over sequences\n",
    "def summarize_over_sequences(records):\n",
    "    '''\n",
    "    sequences in the format\n",
    "    [\n",
    "    [probability, [state1, state2, state3, ..]],\n",
    "    [probability, [state1, state2, state3, ..]],\n",
    "    [probability, [state1, state2, state3, ..]],\n",
    "    ]\n",
    "    '''\n",
    "    res = 0\n",
    "    for record in records:\n",
    "        prob, seq = record \n",
    "        seq_truncated = truncate_to_horizon(seq)\n",
    "        score = summarize_sequence(seq_truncated)\n",
    "        res += prob * score\n",
    "        print prob, seq\n",
    "        print seq_truncated\n",
    "        print score, prob\n",
    "    return res"
   ]
  },
  {
   "cell_type": "code",
   "execution_count": 44,
   "metadata": {
    "collapsed": false
   },
   "outputs": [
    {
     "name": "stdout",
     "output_type": "stream",
     "text": [
      ">>> 0 0.8 w 0.0 0.0\n",
      ">>> 1 0.64 g 1.0 0.64\n",
      ">>> 2 0.512 w 0.0 0.64\n",
      ">>> 3 0.4096 w 0.0 0.64\n",
      ">>> 4 0.32768 w 0.0 0.64\n",
      "0.6 ['w', 'g', 'w', 'w', 'w', 'w', 'r', 'w']\n",
      "['w', 'g', 'w', 'w', 'w']\n",
      "0.64 0.6\n",
      ">>> 0 0.8 w 0.0 0.0\n",
      ">>> 1 0.64 w 0.0 0.0\n",
      ">>> 2 0.512 w 0.0 0.0\n",
      ">>> 3 0.4096 g 1.0 0.4096\n",
      ">>> 4 0.32768 w 0.0 0.4096\n",
      "0.1 ['w', 'w', 'w', 'g', 'w', 'w', 'w', 'w']\n",
      "['w', 'w', 'w', 'g', 'w']\n",
      "0.4096 0.1\n",
      ">>> 0 0.8 w 0.0 0.0\n",
      ">>> 1 0.64 g 1.0 0.64\n",
      ">>> 2 0.512 w 0.0 0.64\n",
      ">>> 3 0.4096 w 0.0 0.64\n",
      ">>> 4 0.32768 r -0.2 0.574464\n",
      "0.3 ['w', 'g', 'w', 'w', 'r', 'w', 'w', 'w']\n",
      "['w', 'g', 'w', 'w', 'r']\n",
      "0.574464 0.3\n",
      "0.5972992\n"
     ]
    }
   ],
   "source": [
    "data = [\n",
    "    [0.6, ['w', 'g', 'w', 'w', 'w', 'w', 'r', 'w']],\n",
    "    [0.1, ['w', 'w', 'w', 'g', 'w', 'w', 'w', 'w']],\n",
    "    [0.3, ['w', 'g', 'w', 'w', 'r', 'w', 'w', 'w']]\n",
    "]\n",
    "\n",
    "print summarize_over_sequences(data)"
   ]
  },
  {
   "cell_type": "code",
   "execution_count": null,
   "metadata": {
    "collapsed": true
   },
   "outputs": [],
   "source": []
  }
 ],
 "metadata": {
  "anaconda-cloud": {},
  "kernelspec": {
   "display_name": "Python [Root]",
   "language": "python",
   "name": "Python [Root]"
  },
  "language_info": {
   "codemirror_mode": {
    "name": "ipython",
    "version": 2
   },
   "file_extension": ".py",
   "mimetype": "text/x-python",
   "name": "python",
   "nbconvert_exporter": "python",
   "pygments_lexer": "ipython2",
   "version": "2.7.12"
  }
 },
 "nbformat": 4,
 "nbformat_minor": 0
}
